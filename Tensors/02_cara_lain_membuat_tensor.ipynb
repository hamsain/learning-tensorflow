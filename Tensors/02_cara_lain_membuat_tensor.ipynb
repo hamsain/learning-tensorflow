{
  "nbformat": 4,
  "nbformat_minor": 0,
  "metadata": {
    "colab": {
      "name": "02_cara_lain_membuat_tensor.ipynb",
      "provenance": [],
      "authorship_tag": "ABX9TyP9bnnK1Lu/zi6CRNfRzHpW",
      "include_colab_link": true
    },
    "kernelspec": {
      "name": "python3",
      "display_name": "Python 3"
    },
    "language_info": {
      "name": "python"
    }
  },
  "cells": [
    {
      "cell_type": "markdown",
      "metadata": {
        "id": "view-in-github",
        "colab_type": "text"
      },
      "source": [
        "<a href=\"https://colab.research.google.com/github/hamsain/learning-tensorflow/blob/main/Tensors/02_cara_lain_membuat_tensor.ipynb\" target=\"_parent\"><img src=\"https://colab.research.google.com/assets/colab-badge.svg\" alt=\"Open In Colab\"/></a>"
      ]
    },
    {
      "cell_type": "markdown",
      "metadata": {
        "id": "-qxuv6FEiR-0"
      },
      "source": [
        "# Cara lain membuat tensor\n",
        "1. membuat tensor berisikan angka 0 semua\n",
        "2. membuat tensor berisikan angka 1 semuanya"
      ]
    },
    {
      "cell_type": "code",
      "metadata": {
        "id": "_t0LrTqgiBL6"
      },
      "source": [
        "# mengimport library\n",
        "import tensorflow as tf"
      ],
      "execution_count": 1,
      "outputs": []
    },
    {
      "cell_type": "code",
      "metadata": {
        "colab": {
          "base_uri": "https://localhost:8080/"
        },
        "id": "23J0vPA-iM_2",
        "outputId": "e60f0dc5-97f1-4e74-ec80-f8145f96d44c"
      },
      "source": [
        "# membuat tensor 0 semuanya\n",
        "lot_of_zeros = tf.zeros(shape=[2,3])\n",
        "lot_of_zeros"
      ],
      "execution_count": 2,
      "outputs": [
        {
          "output_type": "execute_result",
          "data": {
            "text/plain": [
              "<tf.Tensor: shape=(2, 3), dtype=float32, numpy=\n",
              "array([[0., 0., 0.],\n",
              "       [0., 0., 0.]], dtype=float32)>"
            ]
          },
          "metadata": {},
          "execution_count": 2
        }
      ]
    },
    {
      "cell_type": "code",
      "metadata": {
        "colab": {
          "base_uri": "https://localhost:8080/"
        },
        "id": "5SN43Zvkiw2c",
        "outputId": "f4c7324f-f1b3-4ee3-a558-5d09b1963375"
      },
      "source": [
        "# membuat tensor 1 semuanya\n",
        "lot_of_ones = tf.ones(shape=[2,3])\n",
        "lot_of_ones"
      ],
      "execution_count": 3,
      "outputs": [
        {
          "output_type": "execute_result",
          "data": {
            "text/plain": [
              "<tf.Tensor: shape=(2, 3), dtype=float32, numpy=\n",
              "array([[1., 1., 1.],\n",
              "       [1., 1., 1.]], dtype=float32)>"
            ]
          },
          "metadata": {},
          "execution_count": 3
        }
      ]
    },
    {
      "cell_type": "code",
      "metadata": {
        "id": "vX2s9ic_je9e"
      },
      "source": [
        ""
      ],
      "execution_count": null,
      "outputs": []
    }
  ]
}