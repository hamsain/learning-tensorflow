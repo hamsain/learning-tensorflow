{
  "nbformat": 4,
  "nbformat_minor": 0,
  "metadata": {
    "colab": {
      "name": "01_mengenal_variable_tensor.ipynb",
      "provenance": [],
      "authorship_tag": "ABX9TyMiFsD/gD36RtEwCMMUtvPv",
      "include_colab_link": true
    },
    "kernelspec": {
      "name": "python3",
      "display_name": "Python 3"
    },
    "language_info": {
      "name": "python"
    }
  },
  "cells": [
    {
      "cell_type": "markdown",
      "metadata": {
        "id": "view-in-github",
        "colab_type": "text"
      },
      "source": [
        "<a href=\"https://colab.research.google.com/github/hamsain/learning-tensorflow/blob/main/Tensors/01_mengenal_variable_tensor.ipynb\" target=\"_parent\"><img src=\"https://colab.research.google.com/assets/colab-badge.svg\" alt=\"Open In Colab\"/></a>"
      ]
    },
    {
      "cell_type": "markdown",
      "metadata": {
        "id": "PP3zk6qArKbG"
      },
      "source": [
        "# Membuat Variable Tensor\n",
        "\n",
        "1. variabale tensor yang tidak bisa diubah\n",
        "2. variable tensor yang bisa diubah"
      ]
    },
    {
      "cell_type": "code",
      "metadata": {
        "id": "20nQwA5FsQZg"
      },
      "source": [
        "# import library\n",
        "import tensorflow as tf\n"
      ],
      "execution_count": 2,
      "outputs": []
    },
    {
      "cell_type": "code",
      "metadata": {
        "colab": {
          "base_uri": "https://localhost:8080/"
        },
        "id": "XLjmA8WhrPsO",
        "outputId": "b44b321e-c2e5-49d1-b7ef-d03081d5d3ae"
      },
      "source": [
        "# 1. Variable tensor yang tidak bisa diubah\n",
        "my_unchangeable_tensor = tf.constant([5,6])\n",
        "my_unchangeable_tensor"
      ],
      "execution_count": 3,
      "outputs": [
        {
          "output_type": "execute_result",
          "data": {
            "text/plain": [
              "<tf.Tensor: shape=(2,), dtype=int32, numpy=array([5, 6], dtype=int32)>"
            ]
          },
          "metadata": {},
          "execution_count": 3
        }
      ]
    },
    {
      "cell_type": "code",
      "metadata": {
        "id": "aqc-aBDUsNUk"
      },
      "source": [
        "# 1.A. Mencoba membuat perubahan pada variable my_unchangable_tensor\n",
        "\n",
        "#uncomment dua baris code dibawah ini untuk mencoba run\n",
        "# my_unchangeable_tensor[0].assign(2)\n",
        "# my_unchangeable_tensor\n",
        "\n",
        "# Note:\n",
        "# maka akan terjadi error karena variable tersebut dibuat menggunakan tf.constant() yang mana sifatnya constant tidak bisa diubah\n",
        "\n"
      ],
      "execution_count": 7,
      "outputs": []
    },
    {
      "cell_type": "code",
      "metadata": {
        "colab": {
          "base_uri": "https://localhost:8080/"
        },
        "id": "xlvB4DOvs6lE",
        "outputId": "1707580a-e524-465c-d112-5832d6da3e20"
      },
      "source": [
        "# 2. Variable tensor yang bisa diubah\n",
        "my_changeable_tensor = tf.Variable([5,6])\n",
        "my_changeable_tensor"
      ],
      "execution_count": 10,
      "outputs": [
        {
          "output_type": "execute_result",
          "data": {
            "text/plain": [
              "<tf.Variable 'Variable:0' shape=(2,) dtype=int32, numpy=array([5, 6], dtype=int32)>"
            ]
          },
          "metadata": {},
          "execution_count": 10
        }
      ]
    },
    {
      "cell_type": "code",
      "metadata": {
        "colab": {
          "base_uri": "https://localhost:8080/"
        },
        "id": "Kgbi9sKtvcSY",
        "outputId": "ab5b00a6-e8ae-4441-b4cd-501eb9d421ae"
      },
      "source": [
        "# 2.A. Mencoba merubah my_changeable_tensor\n",
        "my_changeable_tensor[0].assign(12)\n",
        "my_changeable_tensor"
      ],
      "execution_count": 11,
      "outputs": [
        {
          "output_type": "execute_result",
          "data": {
            "text/plain": [
              "<tf.Variable 'Variable:0' shape=(2,) dtype=int32, numpy=array([12,  6], dtype=int32)>"
            ]
          },
          "metadata": {},
          "execution_count": 11
        }
      ]
    },
    {
      "cell_type": "markdown",
      "metadata": {
        "id": "iwHEUPCbvtk0"
      },
      "source": [
        "ternyata membuat variable dengan menggunakan syntax tf.Variable(), variable tersebut masih bisa diubah.\n",
        "kesimpulannya\n",
        "* tf.constant() -> tidak bisa diubah\n",
        "* tf.Variable() -> bisa diubah"
      ]
    },
    {
      "cell_type": "code",
      "metadata": {
        "id": "JAhh-laTwsUZ"
      },
      "source": [
        ""
      ],
      "execution_count": null,
      "outputs": []
    }
  ]
}