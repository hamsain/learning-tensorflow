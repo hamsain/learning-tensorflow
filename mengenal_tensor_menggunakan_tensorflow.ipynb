{
  "nbformat": 4,
  "nbformat_minor": 0,
  "metadata": {
    "colab": {
      "name": "mengenal_tensor_menggunakan_tensorflow.ipynb",
      "provenance": [],
      "authorship_tag": "ABX9TyM13coLHYRp214yrBPS7YlQ",
      "include_colab_link": true
    },
    "kernelspec": {
      "name": "python3",
      "display_name": "Python 3"
    },
    "language_info": {
      "name": "python"
    }
  },
  "cells": [
    {
      "cell_type": "markdown",
      "metadata": {
        "id": "view-in-github",
        "colab_type": "text"
      },
      "source": [
        "<a href=\"https://colab.research.google.com/github/hamsain/learning-tensorflow/blob/main/mengenal_tensor_menggunakan_tensorflow.ipynb\" target=\"_parent\"><img src=\"https://colab.research.google.com/assets/colab-badge.svg\" alt=\"Open In Colab\"/></a>"
      ]
    },
    {
      "cell_type": "markdown",
      "metadata": {
        "id": "YpJvPS4516WI"
      },
      "source": [
        "# Mengenal Konsep Tensor dengan library TensorFlow\n",
        "\n",
        "di sini kita akan membuat berbagai bentuk tensor dengan menggunakan tensorflow:\n",
        "1. scalar\n",
        "2. vector\n",
        "3. matrix\n",
        "4. tensor"
      ]
    },
    {
      "cell_type": "code",
      "metadata": {
        "colab": {
          "base_uri": "https://localhost:8080/"
        },
        "id": "AmyecKeK2Y1Z",
        "outputId": "b3cead31-fe96-4c33-d4ce-402dcd15cc6d"
      },
      "source": [
        "# mengimport library yang diperlukan\n",
        "import tensorflow as tf\n",
        "print(tf.__version__)"
      ],
      "execution_count": null,
      "outputs": [
        {
          "output_type": "stream",
          "name": "stdout",
          "text": [
            "2.6.0\n"
          ]
        }
      ]
    },
    {
      "cell_type": "code",
      "metadata": {
        "colab": {
          "base_uri": "https://localhost:8080/"
        },
        "id": "tm0izm3e3QrQ",
        "outputId": "d57f01db-5f3e-4d13-cff9-7c89607cc431"
      },
      "source": [
        "# 1. membuat Scalar dengan tf.constant()\n",
        "# scalar adalah single number\n",
        "my_scalar = tf.constant(5)\n",
        "my_scalar"
      ],
      "execution_count": null,
      "outputs": [
        {
          "output_type": "execute_result",
          "data": {
            "text/plain": [
              "<tf.Tensor: shape=(), dtype=int32, numpy=5>"
            ]
          },
          "metadata": {},
          "execution_count": 3
        }
      ]
    },
    {
      "cell_type": "code",
      "metadata": {
        "id": "Pzo8NNz-4oVP",
        "colab": {
          "base_uri": "https://localhost:8080/"
        },
        "outputId": "08e6c8be-93ea-4c7a-ec29-83e595360b1d"
      },
      "source": [
        "# 2. membuat vector\n",
        "# vector adalah angka dengan arahan atau lebih dikenal array angka dengan 1 dimensi\n",
        "my_vector = tf.constant([2,2])\n",
        "my_vector"
      ],
      "execution_count": 4,
      "outputs": [
        {
          "output_type": "execute_result",
          "data": {
            "text/plain": [
              "<tf.Tensor: shape=(2,), dtype=int32, numpy=array([2, 2], dtype=int32)>"
            ]
          },
          "metadata": {},
          "execution_count": 4
        }
      ]
    },
    {
      "cell_type": "code",
      "metadata": {
        "colab": {
          "base_uri": "https://localhost:8080/"
        },
        "id": "9P-Nb9ip6Wck",
        "outputId": "fbda6fa8-3e8c-43d4-b3c7-f817153ab112"
      },
      "source": [
        "# 3. membuat matrix\n",
        "# matrix adalah array angka dengan 2 dimensi\n",
        "my_matrix = tf.constant([[1,2],\n",
        "                         [3,4]])\n",
        "my_matrix"
      ],
      "execution_count": 6,
      "outputs": [
        {
          "output_type": "execute_result",
          "data": {
            "text/plain": [
              "<tf.Tensor: shape=(2, 2), dtype=int32, numpy=\n",
              "array([[1, 2],\n",
              "       [3, 4]], dtype=int32)>"
            ]
          },
          "metadata": {},
          "execution_count": 6
        }
      ]
    },
    {
      "cell_type": "code",
      "metadata": {
        "colab": {
          "base_uri": "https://localhost:8080/"
        },
        "id": "0GvCLgAF5oO9",
        "outputId": "aef0567f-a512-4d38-b6fb-151618c7142f"
      },
      "source": [
        "# 4. membuat tensor\n",
        "# tensor adalah array angka - angka dengan n dimensi\n",
        "# array dengan 0 dimensi adalah scalar\n",
        "# array dengan 1 dimensi adalah vector\n",
        "\n",
        "my_tensor = tf.constant([[[1,2,3],\n",
        "                      [4,5,6]],\n",
        "                      [[7,8,9],\n",
        "                       [10,11,12]],\n",
        "                      [[13,14,15],\n",
        "                       [16,17,18]]])\n",
        "my_tensor"
      ],
      "execution_count": 7,
      "outputs": [
        {
          "output_type": "execute_result",
          "data": {
            "text/plain": [
              "<tf.Tensor: shape=(3, 2, 3), dtype=int32, numpy=\n",
              "array([[[ 1,  2,  3],\n",
              "        [ 4,  5,  6]],\n",
              "\n",
              "       [[ 7,  8,  9],\n",
              "        [10, 11, 12]],\n",
              "\n",
              "       [[13, 14, 15],\n",
              "        [16, 17, 18]]], dtype=int32)>"
            ]
          },
          "metadata": {},
          "execution_count": 7
        }
      ]
    },
    {
      "cell_type": "code",
      "metadata": {
        "colab": {
          "base_uri": "https://localhost:8080/"
        },
        "id": "wJ3MAA9U9E2q",
        "outputId": "1005fa9f-c906-41a3-924b-bae0fa1831b9"
      },
      "source": [
        "# melihat dimensi masing bentuk tensor yang kita buat di atas dengan menggunakan sintaks .ndim\n",
        "print(\"dimensi pada my_scalar adalah: \", my_scalar.ndim)\n",
        "print(\"dimensi pada my_vector adalah: \", my_vector.ndim)\n",
        "print(\"dimensi pada my_matrix adalah: \", my_matrix.ndim)\n",
        "print(\"dimensi pada my_tensor adalah: \", my_tensor.ndim)"
      ],
      "execution_count": 8,
      "outputs": [
        {
          "output_type": "stream",
          "name": "stdout",
          "text": [
            "dimensi pada my_scalar adalah:  0\n",
            "dimensi pada my_vector adalah:  1\n",
            "dimensi pada my_matrix adalah:  2\n",
            "dimensi pada my_tensor adalah:  3\n"
          ]
        }
      ]
    },
    {
      "cell_type": "code",
      "metadata": {
        "id": "FzrLjKFB-ISF"
      },
      "source": [
        "|"
      ],
      "execution_count": null,
      "outputs": []
    }
  ]
}